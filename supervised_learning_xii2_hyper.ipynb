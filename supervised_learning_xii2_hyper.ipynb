{
  "nbformat": 4,
  "nbformat_minor": 0,
  "metadata": {
    "colab": {
      "provenance": [],
      "authorship_tag": "ABX9TyOwO0iPm/mLGugaRICDk47f",
      "include_colab_link": true
    },
    "kernelspec": {
      "name": "python3",
      "display_name": "Python 3"
    },
    "language_info": {
      "name": "python"
    }
  },
  "cells": [
    {
      "cell_type": "markdown",
      "metadata": {
        "id": "view-in-github",
        "colab_type": "text"
      },
      "source": [
        "<a href=\"https://colab.research.google.com/github/nvwa0318/Supervise-learning/blob/main/supervised_learning_xii2_hyper.ipynb\" target=\"_parent\"><img src=\"https://colab.research.google.com/assets/colab-badge.svg\" alt=\"Open In Colab\"/></a>"
      ]
    },
    {
      "cell_type": "code",
      "execution_count": null,
      "metadata": {
        "id": "A-LQEg1TY-Za"
      },
      "outputs": [],
      "source": [
        "import numpy as np\n",
        "import pandas as pd\n",
        "\n",
        "from sklearn import svm, datasets\n",
        "from sklearn.linear_model import LinearRegression, Lasso, Ridge\n",
        "from sklearn.model_selection import train_test_split, GridSearchCV\n",
        "\n",
        "from sklearn.pipeline import Pipeline\n",
        "from sklearn.preprocessing import LabelEncoder, StandardScaler, OneHotEncoder\n",
        "from sklearn.compose import ColumnTransformer\n",
        "from sklearn.impute import SimpleImputer\n",
        "from sklearn import metrics\n",
        "\n",
        "columns = [\"sex\",\"length\",\"diam\",\"height\",\"whole\",\"shucked\",\"viscera\",\"shell\",\"age\"]\n",
        "df = pd.read_csv(\"http://archive.ics.uci.edu/ml/machine-learning-databases/abalone/abalone.data\",names=columns)\n",
        "\n",
        "y = df.age\n",
        "X=df.drop(columns=['age'])\n",
        "num_cols = X.select_dtypes(include=np.number).columns\n",
        "cat_cols = X.select_dtypes(include=['object']).columns\n",
        "#create some missing values\n",
        "for i in range(1000):\n",
        "    X.loc[np.random.choice(X.index),np.random.choice(X.columns)] = np.nan\n",
        "\n",
        "x_train, x_test, y_train, y_test = train_test_split(X,y, random_state=0, test_size=0.25)\n",
        "\n",
        "cat_vals = Pipeline([(\"imputer\",SimpleImputer(strategy='most_frequent')), (\"ohe\",OneHotEncoder(sparse=False, drop='first'))])\n",
        "num_vals = Pipeline([(\"imputer\",SimpleImputer(strategy='mean')), (\"scale\",StandardScaler())])\n",
        "\n",
        "preprocess = ColumnTransformer(\n",
        "    transformers=[\n",
        "        (\"cat_process\", cat_vals, cat_cols),\n",
        "        (\"num_process\", num_vals, num_cols)\n",
        "    ]\n",
        ")\n",
        "#Create a pipeline with preprocess and a linear regression model\n",
        "pipeline = Pipeline([(\"preprocess\",preprocess), \n",
        "                     (\"regr\",LinearRegression())])\n",
        "#Very simple parameter grid, with and without the intercept\n",
        "param_grid = {\n",
        "    \"regr__fit_intercept\": [True,False]\n",
        "}\n",
        "\n",
        "# 1. Update the search_space dictionary to include values for alpha in lasso and ridge regression models. Use np.logspace(-4,2,10).\n",
        "search_space = [{'regr': [LinearRegression()]}, # Actual Estimator\n",
        "                {'regr':[Ridge()],\n",
        "                     'regr__alpha': np.logspace(-4, 2, 10)},\n",
        "                {'regr':[Lasso()],\n",
        "                     'regr__alpha': np.logspace(-4, 2, 10)}]\n",
        "\n",
        "\n",
        "# 2.  Fit the GridSearchCV on the training data and print the best estimator and score from the search.\n",
        "gs = GridSearchCV(pipeline, search_space, scoring='neg_mean_squared_error', cv=5)\n",
        "gs.fit(x_train, y_train)\n",
        "print('Best Estimator:')\n",
        "print(gs.best_estimator_)\n",
        "print('Best NMSE:')\n",
        "print(gs.best_score_)\n",
        "\n",
        "#3. Save the best estimator and print it\n",
        "best_model = gs.best_estimator_\n",
        "print('The regression model is:')\n",
        "print(best_model.named_steps['regr'])\n",
        "print('The hyperparameters of the regression model are:')\n",
        "print(best_model.named_steps['regr'].get_params())\n",
        "\n",
        "#4. Access the hyperparameters of the categorical preprocessing step\n",
        "\n",
        "print('The hyperparameters of the imputer are:')\n",
        "print(best_model.named_steps['preprocess'].named_transformers_['cat_process'].named_steps['imputer'].get_params())"
      ]
    }
  ]
}