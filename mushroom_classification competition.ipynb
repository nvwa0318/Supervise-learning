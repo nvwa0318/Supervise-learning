{
  "nbformat": 4,
  "nbformat_minor": 0,
  "metadata": {
    "colab": {
      "name": "mushroom classification.ipynb",
      "provenance": [],
      "authorship_tag": "ABX9TyOmMBN8rb1R4Yq7pcYwZjcs",
      "include_colab_link": true
    },
    "kernelspec": {
      "name": "python3",
      "display_name": "Python 3"
    },
    "language_info": {
      "name": "python"
    }
  },
  "cells": [
    {
      "cell_type": "markdown",
      "metadata": {
        "id": "view-in-github",
        "colab_type": "text"
      },
      "source": [
        "<a href=\"https://colab.research.google.com/github/nvwa0318/Supervise-learning/blob/main/mushroom_classification%20competition.ipynb\" target=\"_parent\"><img src=\"https://colab.research.google.com/assets/colab-badge.svg\" alt=\"Open In Colab\"/></a>"
      ]
    },
    {
      "cell_type": "code",
      "execution_count": null,
      "metadata": {
        "id": "ETeM9YlHTNgI"
      },
      "outputs": [],
      "source": [
        "import pandas as pd\n",
        "import matplotlib.pyplot as plt\n",
        "import numpy as np"
      ]
    },
    {
      "cell_type": "code",
      "source": [
        "from sklearn.preprocessing import StandardScaler\n",
        "from sklearn.preprocessing import LabelEncoder"
      ],
      "metadata": {
        "id": "Hd0PP960XtBj"
      },
      "execution_count": null,
      "outputs": []
    },
    {
      "cell_type": "code",
      "source": [
        "#import data\n",
        "url = \"https://drive.google.com/file/d/1ZdMrZc0JcjWU8LQHWdHQstzdfz_Mtb86/view?usp=sharing\"\n",
        "path = 'https://drive.google.com/uc?export=download&id='+url.split('/')[-2]\n",
        "\n",
        "Data_tr = pd.read_csv(path)\n",
        "Data_tr"
      ],
      "metadata": {
        "colab": {
          "base_uri": "https://localhost:8080/",
          "height": 424
        },
        "id": "94YeAxlpgFUQ",
        "outputId": "36f908c4-8b4a-4c15-a504-a022f2482e4d"
      },
      "execution_count": null,
      "outputs": [
        {
          "output_type": "execute_result",
          "data": {
            "text/plain": [
              "     cap.shape cap.color  bruises stalk.color.above.ring  \\\n",
              "0            k         e    False                      w   \n",
              "1            f         e     True                      p   \n",
              "2            b         w    False                      w   \n",
              "3            k         g    False                      w   \n",
              "4            f         n     True                      p   \n",
              "...        ...       ...      ...                    ...   \n",
              "6494         f         g    False                      b   \n",
              "6495         k         e    False                      p   \n",
              "6496         f         g    False                      n   \n",
              "6497         f         n     True                      w   \n",
              "6498         f         e    False                      p   \n",
              "\n",
              "     stalk.color.below.ring population    Id  poisonous  \n",
              "0                         w          v  6573          1  \n",
              "1                         w          y  4426          0  \n",
              "2                         w          s  7018          0  \n",
              "3                         w          n  5789          0  \n",
              "4                         g          v  6187          0  \n",
              "...                     ...        ...   ...        ...  \n",
              "6494                      b          v  7002          1  \n",
              "6495                      p          v  7323          1  \n",
              "6496                      b          y  6206          1  \n",
              "6497                      w          s  4658          0  \n",
              "6498                      p          v   373          1  \n",
              "\n",
              "[6499 rows x 8 columns]"
            ],
            "text/html": [
              "\n",
              "  <div id=\"df-fed7cbc5-0579-4235-b978-5b989e51faca\">\n",
              "    <div class=\"colab-df-container\">\n",
              "      <div>\n",
              "<style scoped>\n",
              "    .dataframe tbody tr th:only-of-type {\n",
              "        vertical-align: middle;\n",
              "    }\n",
              "\n",
              "    .dataframe tbody tr th {\n",
              "        vertical-align: top;\n",
              "    }\n",
              "\n",
              "    .dataframe thead th {\n",
              "        text-align: right;\n",
              "    }\n",
              "</style>\n",
              "<table border=\"1\" class=\"dataframe\">\n",
              "  <thead>\n",
              "    <tr style=\"text-align: right;\">\n",
              "      <th></th>\n",
              "      <th>cap.shape</th>\n",
              "      <th>cap.color</th>\n",
              "      <th>bruises</th>\n",
              "      <th>stalk.color.above.ring</th>\n",
              "      <th>stalk.color.below.ring</th>\n",
              "      <th>population</th>\n",
              "      <th>Id</th>\n",
              "      <th>poisonous</th>\n",
              "    </tr>\n",
              "  </thead>\n",
              "  <tbody>\n",
              "    <tr>\n",
              "      <th>0</th>\n",
              "      <td>k</td>\n",
              "      <td>e</td>\n",
              "      <td>False</td>\n",
              "      <td>w</td>\n",
              "      <td>w</td>\n",
              "      <td>v</td>\n",
              "      <td>6573</td>\n",
              "      <td>1</td>\n",
              "    </tr>\n",
              "    <tr>\n",
              "      <th>1</th>\n",
              "      <td>f</td>\n",
              "      <td>e</td>\n",
              "      <td>True</td>\n",
              "      <td>p</td>\n",
              "      <td>w</td>\n",
              "      <td>y</td>\n",
              "      <td>4426</td>\n",
              "      <td>0</td>\n",
              "    </tr>\n",
              "    <tr>\n",
              "      <th>2</th>\n",
              "      <td>b</td>\n",
              "      <td>w</td>\n",
              "      <td>False</td>\n",
              "      <td>w</td>\n",
              "      <td>w</td>\n",
              "      <td>s</td>\n",
              "      <td>7018</td>\n",
              "      <td>0</td>\n",
              "    </tr>\n",
              "    <tr>\n",
              "      <th>3</th>\n",
              "      <td>k</td>\n",
              "      <td>g</td>\n",
              "      <td>False</td>\n",
              "      <td>w</td>\n",
              "      <td>w</td>\n",
              "      <td>n</td>\n",
              "      <td>5789</td>\n",
              "      <td>0</td>\n",
              "    </tr>\n",
              "    <tr>\n",
              "      <th>4</th>\n",
              "      <td>f</td>\n",
              "      <td>n</td>\n",
              "      <td>True</td>\n",
              "      <td>p</td>\n",
              "      <td>g</td>\n",
              "      <td>v</td>\n",
              "      <td>6187</td>\n",
              "      <td>0</td>\n",
              "    </tr>\n",
              "    <tr>\n",
              "      <th>...</th>\n",
              "      <td>...</td>\n",
              "      <td>...</td>\n",
              "      <td>...</td>\n",
              "      <td>...</td>\n",
              "      <td>...</td>\n",
              "      <td>...</td>\n",
              "      <td>...</td>\n",
              "      <td>...</td>\n",
              "    </tr>\n",
              "    <tr>\n",
              "      <th>6494</th>\n",
              "      <td>f</td>\n",
              "      <td>g</td>\n",
              "      <td>False</td>\n",
              "      <td>b</td>\n",
              "      <td>b</td>\n",
              "      <td>v</td>\n",
              "      <td>7002</td>\n",
              "      <td>1</td>\n",
              "    </tr>\n",
              "    <tr>\n",
              "      <th>6495</th>\n",
              "      <td>k</td>\n",
              "      <td>e</td>\n",
              "      <td>False</td>\n",
              "      <td>p</td>\n",
              "      <td>p</td>\n",
              "      <td>v</td>\n",
              "      <td>7323</td>\n",
              "      <td>1</td>\n",
              "    </tr>\n",
              "    <tr>\n",
              "      <th>6496</th>\n",
              "      <td>f</td>\n",
              "      <td>g</td>\n",
              "      <td>False</td>\n",
              "      <td>n</td>\n",
              "      <td>b</td>\n",
              "      <td>y</td>\n",
              "      <td>6206</td>\n",
              "      <td>1</td>\n",
              "    </tr>\n",
              "    <tr>\n",
              "      <th>6497</th>\n",
              "      <td>f</td>\n",
              "      <td>n</td>\n",
              "      <td>True</td>\n",
              "      <td>w</td>\n",
              "      <td>w</td>\n",
              "      <td>s</td>\n",
              "      <td>4658</td>\n",
              "      <td>0</td>\n",
              "    </tr>\n",
              "    <tr>\n",
              "      <th>6498</th>\n",
              "      <td>f</td>\n",
              "      <td>e</td>\n",
              "      <td>False</td>\n",
              "      <td>p</td>\n",
              "      <td>p</td>\n",
              "      <td>v</td>\n",
              "      <td>373</td>\n",
              "      <td>1</td>\n",
              "    </tr>\n",
              "  </tbody>\n",
              "</table>\n",
              "<p>6499 rows × 8 columns</p>\n",
              "</div>\n",
              "      <button class=\"colab-df-convert\" onclick=\"convertToInteractive('df-fed7cbc5-0579-4235-b978-5b989e51faca')\"\n",
              "              title=\"Convert this dataframe to an interactive table.\"\n",
              "              style=\"display:none;\">\n",
              "        \n",
              "  <svg xmlns=\"http://www.w3.org/2000/svg\" height=\"24px\"viewBox=\"0 0 24 24\"\n",
              "       width=\"24px\">\n",
              "    <path d=\"M0 0h24v24H0V0z\" fill=\"none\"/>\n",
              "    <path d=\"M18.56 5.44l.94 2.06.94-2.06 2.06-.94-2.06-.94-.94-2.06-.94 2.06-2.06.94zm-11 1L8.5 8.5l.94-2.06 2.06-.94-2.06-.94L8.5 2.5l-.94 2.06-2.06.94zm10 10l.94 2.06.94-2.06 2.06-.94-2.06-.94-.94-2.06-.94 2.06-2.06.94z\"/><path d=\"M17.41 7.96l-1.37-1.37c-.4-.4-.92-.59-1.43-.59-.52 0-1.04.2-1.43.59L10.3 9.45l-7.72 7.72c-.78.78-.78 2.05 0 2.83L4 21.41c.39.39.9.59 1.41.59.51 0 1.02-.2 1.41-.59l7.78-7.78 2.81-2.81c.8-.78.8-2.07 0-2.86zM5.41 20L4 18.59l7.72-7.72 1.47 1.35L5.41 20z\"/>\n",
              "  </svg>\n",
              "      </button>\n",
              "      \n",
              "  <style>\n",
              "    .colab-df-container {\n",
              "      display:flex;\n",
              "      flex-wrap:wrap;\n",
              "      gap: 12px;\n",
              "    }\n",
              "\n",
              "    .colab-df-convert {\n",
              "      background-color: #E8F0FE;\n",
              "      border: none;\n",
              "      border-radius: 50%;\n",
              "      cursor: pointer;\n",
              "      display: none;\n",
              "      fill: #1967D2;\n",
              "      height: 32px;\n",
              "      padding: 0 0 0 0;\n",
              "      width: 32px;\n",
              "    }\n",
              "\n",
              "    .colab-df-convert:hover {\n",
              "      background-color: #E2EBFA;\n",
              "      box-shadow: 0px 1px 2px rgba(60, 64, 67, 0.3), 0px 1px 3px 1px rgba(60, 64, 67, 0.15);\n",
              "      fill: #174EA6;\n",
              "    }\n",
              "\n",
              "    [theme=dark] .colab-df-convert {\n",
              "      background-color: #3B4455;\n",
              "      fill: #D2E3FC;\n",
              "    }\n",
              "\n",
              "    [theme=dark] .colab-df-convert:hover {\n",
              "      background-color: #434B5C;\n",
              "      box-shadow: 0px 1px 3px 1px rgba(0, 0, 0, 0.15);\n",
              "      filter: drop-shadow(0px 1px 2px rgba(0, 0, 0, 0.3));\n",
              "      fill: #FFFFFF;\n",
              "    }\n",
              "  </style>\n",
              "\n",
              "      <script>\n",
              "        const buttonEl =\n",
              "          document.querySelector('#df-fed7cbc5-0579-4235-b978-5b989e51faca button.colab-df-convert');\n",
              "        buttonEl.style.display =\n",
              "          google.colab.kernel.accessAllowed ? 'block' : 'none';\n",
              "\n",
              "        async function convertToInteractive(key) {\n",
              "          const element = document.querySelector('#df-fed7cbc5-0579-4235-b978-5b989e51faca');\n",
              "          const dataTable =\n",
              "            await google.colab.kernel.invokeFunction('convertToInteractive',\n",
              "                                                     [key], {});\n",
              "          if (!dataTable) return;\n",
              "\n",
              "          const docLinkHtml = 'Like what you see? Visit the ' +\n",
              "            '<a target=\"_blank\" href=https://colab.research.google.com/notebooks/data_table.ipynb>data table notebook</a>'\n",
              "            + ' to learn more about interactive tables.';\n",
              "          element.innerHTML = '';\n",
              "          dataTable['output_type'] = 'display_data';\n",
              "          await google.colab.output.renderOutput(dataTable, element);\n",
              "          const docLink = document.createElement('div');\n",
              "          docLink.innerHTML = docLinkHtml;\n",
              "          element.appendChild(docLink);\n",
              "        }\n",
              "      </script>\n",
              "    </div>\n",
              "  </div>\n",
              "  "
            ]
          },
          "metadata": {},
          "execution_count": 50
        }
      ]
    },
    {
      "cell_type": "code",
      "source": [
        "Data_tr"
      ],
      "metadata": {
        "id": "4REEnu7ebxRR",
        "colab": {
          "base_uri": "https://localhost:8080/",
          "height": 424
        },
        "outputId": "c15b6f35-e98d-4b7a-96c7-daa746a5fdc8"
      },
      "execution_count": null,
      "outputs": [
        {
          "output_type": "execute_result",
          "data": {
            "text/plain": [
              "     cap.shape cap.color  bruises stalk.color.above.ring  \\\n",
              "0            k         e    False                      w   \n",
              "1            f         e     True                      p   \n",
              "2            b         w    False                      w   \n",
              "3            k         g    False                      w   \n",
              "4            f         n     True                      p   \n",
              "...        ...       ...      ...                    ...   \n",
              "6494         f         g    False                      b   \n",
              "6495         k         e    False                      p   \n",
              "6496         f         g    False                      n   \n",
              "6497         f         n     True                      w   \n",
              "6498         f         e    False                      p   \n",
              "\n",
              "     stalk.color.below.ring population    Id  poisonous  \n",
              "0                         w          v  6573          1  \n",
              "1                         w          y  4426          0  \n",
              "2                         w          s  7018          0  \n",
              "3                         w          n  5789          0  \n",
              "4                         g          v  6187          0  \n",
              "...                     ...        ...   ...        ...  \n",
              "6494                      b          v  7002          1  \n",
              "6495                      p          v  7323          1  \n",
              "6496                      b          y  6206          1  \n",
              "6497                      w          s  4658          0  \n",
              "6498                      p          v   373          1  \n",
              "\n",
              "[6499 rows x 8 columns]"
            ],
            "text/html": [
              "\n",
              "  <div id=\"df-4b09610a-ad14-49a7-9bc3-fd0426d9345d\">\n",
              "    <div class=\"colab-df-container\">\n",
              "      <div>\n",
              "<style scoped>\n",
              "    .dataframe tbody tr th:only-of-type {\n",
              "        vertical-align: middle;\n",
              "    }\n",
              "\n",
              "    .dataframe tbody tr th {\n",
              "        vertical-align: top;\n",
              "    }\n",
              "\n",
              "    .dataframe thead th {\n",
              "        text-align: right;\n",
              "    }\n",
              "</style>\n",
              "<table border=\"1\" class=\"dataframe\">\n",
              "  <thead>\n",
              "    <tr style=\"text-align: right;\">\n",
              "      <th></th>\n",
              "      <th>cap.shape</th>\n",
              "      <th>cap.color</th>\n",
              "      <th>bruises</th>\n",
              "      <th>stalk.color.above.ring</th>\n",
              "      <th>stalk.color.below.ring</th>\n",
              "      <th>population</th>\n",
              "      <th>Id</th>\n",
              "      <th>poisonous</th>\n",
              "    </tr>\n",
              "  </thead>\n",
              "  <tbody>\n",
              "    <tr>\n",
              "      <th>0</th>\n",
              "      <td>k</td>\n",
              "      <td>e</td>\n",
              "      <td>False</td>\n",
              "      <td>w</td>\n",
              "      <td>w</td>\n",
              "      <td>v</td>\n",
              "      <td>6573</td>\n",
              "      <td>1</td>\n",
              "    </tr>\n",
              "    <tr>\n",
              "      <th>1</th>\n",
              "      <td>f</td>\n",
              "      <td>e</td>\n",
              "      <td>True</td>\n",
              "      <td>p</td>\n",
              "      <td>w</td>\n",
              "      <td>y</td>\n",
              "      <td>4426</td>\n",
              "      <td>0</td>\n",
              "    </tr>\n",
              "    <tr>\n",
              "      <th>2</th>\n",
              "      <td>b</td>\n",
              "      <td>w</td>\n",
              "      <td>False</td>\n",
              "      <td>w</td>\n",
              "      <td>w</td>\n",
              "      <td>s</td>\n",
              "      <td>7018</td>\n",
              "      <td>0</td>\n",
              "    </tr>\n",
              "    <tr>\n",
              "      <th>3</th>\n",
              "      <td>k</td>\n",
              "      <td>g</td>\n",
              "      <td>False</td>\n",
              "      <td>w</td>\n",
              "      <td>w</td>\n",
              "      <td>n</td>\n",
              "      <td>5789</td>\n",
              "      <td>0</td>\n",
              "    </tr>\n",
              "    <tr>\n",
              "      <th>4</th>\n",
              "      <td>f</td>\n",
              "      <td>n</td>\n",
              "      <td>True</td>\n",
              "      <td>p</td>\n",
              "      <td>g</td>\n",
              "      <td>v</td>\n",
              "      <td>6187</td>\n",
              "      <td>0</td>\n",
              "    </tr>\n",
              "    <tr>\n",
              "      <th>...</th>\n",
              "      <td>...</td>\n",
              "      <td>...</td>\n",
              "      <td>...</td>\n",
              "      <td>...</td>\n",
              "      <td>...</td>\n",
              "      <td>...</td>\n",
              "      <td>...</td>\n",
              "      <td>...</td>\n",
              "    </tr>\n",
              "    <tr>\n",
              "      <th>6494</th>\n",
              "      <td>f</td>\n",
              "      <td>g</td>\n",
              "      <td>False</td>\n",
              "      <td>b</td>\n",
              "      <td>b</td>\n",
              "      <td>v</td>\n",
              "      <td>7002</td>\n",
              "      <td>1</td>\n",
              "    </tr>\n",
              "    <tr>\n",
              "      <th>6495</th>\n",
              "      <td>k</td>\n",
              "      <td>e</td>\n",
              "      <td>False</td>\n",
              "      <td>p</td>\n",
              "      <td>p</td>\n",
              "      <td>v</td>\n",
              "      <td>7323</td>\n",
              "      <td>1</td>\n",
              "    </tr>\n",
              "    <tr>\n",
              "      <th>6496</th>\n",
              "      <td>f</td>\n",
              "      <td>g</td>\n",
              "      <td>False</td>\n",
              "      <td>n</td>\n",
              "      <td>b</td>\n",
              "      <td>y</td>\n",
              "      <td>6206</td>\n",
              "      <td>1</td>\n",
              "    </tr>\n",
              "    <tr>\n",
              "      <th>6497</th>\n",
              "      <td>f</td>\n",
              "      <td>n</td>\n",
              "      <td>True</td>\n",
              "      <td>w</td>\n",
              "      <td>w</td>\n",
              "      <td>s</td>\n",
              "      <td>4658</td>\n",
              "      <td>0</td>\n",
              "    </tr>\n",
              "    <tr>\n",
              "      <th>6498</th>\n",
              "      <td>f</td>\n",
              "      <td>e</td>\n",
              "      <td>False</td>\n",
              "      <td>p</td>\n",
              "      <td>p</td>\n",
              "      <td>v</td>\n",
              "      <td>373</td>\n",
              "      <td>1</td>\n",
              "    </tr>\n",
              "  </tbody>\n",
              "</table>\n",
              "<p>6499 rows × 8 columns</p>\n",
              "</div>\n",
              "      <button class=\"colab-df-convert\" onclick=\"convertToInteractive('df-4b09610a-ad14-49a7-9bc3-fd0426d9345d')\"\n",
              "              title=\"Convert this dataframe to an interactive table.\"\n",
              "              style=\"display:none;\">\n",
              "        \n",
              "  <svg xmlns=\"http://www.w3.org/2000/svg\" height=\"24px\"viewBox=\"0 0 24 24\"\n",
              "       width=\"24px\">\n",
              "    <path d=\"M0 0h24v24H0V0z\" fill=\"none\"/>\n",
              "    <path d=\"M18.56 5.44l.94 2.06.94-2.06 2.06-.94-2.06-.94-.94-2.06-.94 2.06-2.06.94zm-11 1L8.5 8.5l.94-2.06 2.06-.94-2.06-.94L8.5 2.5l-.94 2.06-2.06.94zm10 10l.94 2.06.94-2.06 2.06-.94-2.06-.94-.94-2.06-.94 2.06-2.06.94z\"/><path d=\"M17.41 7.96l-1.37-1.37c-.4-.4-.92-.59-1.43-.59-.52 0-1.04.2-1.43.59L10.3 9.45l-7.72 7.72c-.78.78-.78 2.05 0 2.83L4 21.41c.39.39.9.59 1.41.59.51 0 1.02-.2 1.41-.59l7.78-7.78 2.81-2.81c.8-.78.8-2.07 0-2.86zM5.41 20L4 18.59l7.72-7.72 1.47 1.35L5.41 20z\"/>\n",
              "  </svg>\n",
              "      </button>\n",
              "      \n",
              "  <style>\n",
              "    .colab-df-container {\n",
              "      display:flex;\n",
              "      flex-wrap:wrap;\n",
              "      gap: 12px;\n",
              "    }\n",
              "\n",
              "    .colab-df-convert {\n",
              "      background-color: #E8F0FE;\n",
              "      border: none;\n",
              "      border-radius: 50%;\n",
              "      cursor: pointer;\n",
              "      display: none;\n",
              "      fill: #1967D2;\n",
              "      height: 32px;\n",
              "      padding: 0 0 0 0;\n",
              "      width: 32px;\n",
              "    }\n",
              "\n",
              "    .colab-df-convert:hover {\n",
              "      background-color: #E2EBFA;\n",
              "      box-shadow: 0px 1px 2px rgba(60, 64, 67, 0.3), 0px 1px 3px 1px rgba(60, 64, 67, 0.15);\n",
              "      fill: #174EA6;\n",
              "    }\n",
              "\n",
              "    [theme=dark] .colab-df-convert {\n",
              "      background-color: #3B4455;\n",
              "      fill: #D2E3FC;\n",
              "    }\n",
              "\n",
              "    [theme=dark] .colab-df-convert:hover {\n",
              "      background-color: #434B5C;\n",
              "      box-shadow: 0px 1px 3px 1px rgba(0, 0, 0, 0.15);\n",
              "      filter: drop-shadow(0px 1px 2px rgba(0, 0, 0, 0.3));\n",
              "      fill: #FFFFFF;\n",
              "    }\n",
              "  </style>\n",
              "\n",
              "      <script>\n",
              "        const buttonEl =\n",
              "          document.querySelector('#df-4b09610a-ad14-49a7-9bc3-fd0426d9345d button.colab-df-convert');\n",
              "        buttonEl.style.display =\n",
              "          google.colab.kernel.accessAllowed ? 'block' : 'none';\n",
              "\n",
              "        async function convertToInteractive(key) {\n",
              "          const element = document.querySelector('#df-4b09610a-ad14-49a7-9bc3-fd0426d9345d');\n",
              "          const dataTable =\n",
              "            await google.colab.kernel.invokeFunction('convertToInteractive',\n",
              "                                                     [key], {});\n",
              "          if (!dataTable) return;\n",
              "\n",
              "          const docLinkHtml = 'Like what you see? Visit the ' +\n",
              "            '<a target=\"_blank\" href=https://colab.research.google.com/notebooks/data_table.ipynb>data table notebook</a>'\n",
              "            + ' to learn more about interactive tables.';\n",
              "          element.innerHTML = '';\n",
              "          dataTable['output_type'] = 'display_data';\n",
              "          await google.colab.output.renderOutput(dataTable, element);\n",
              "          const docLink = document.createElement('div');\n",
              "          docLink.innerHTML = docLinkHtml;\n",
              "          element.appendChild(docLink);\n",
              "        }\n",
              "      </script>\n",
              "    </div>\n",
              "  </div>\n",
              "  "
            ]
          },
          "metadata": {},
          "execution_count": 51
        }
      ]
    },
    {
      "cell_type": "code",
      "source": [
        "#import data\n",
        "#url = \"https://drive.google.com/file/d/1ZdMrZc0JcjWU8LQHWdHQstzdfz_Mtb86/view?usp=sharing\"\n",
        "##path = 'https://drive.google.com/uc?export=download&id='+url.split('/')[-2]\n",
        "\n",
        "#y1tr = pd.read_csv(path)\n",
        "#ytr1=y1tr['poisonous']\n",
        "#ytr1\n",
        "ytr1=Data_tr['poisonous']\n",
        "ytr1"
      ],
      "metadata": {
        "colab": {
          "base_uri": "https://localhost:8080/"
        },
        "id": "bv75ZTKFTc4d",
        "outputId": "c3c7a5bd-78e6-4bce-c347-a311bfab60d8"
      },
      "execution_count": null,
      "outputs": [
        {
          "output_type": "execute_result",
          "data": {
            "text/plain": [
              "0       1\n",
              "1       0\n",
              "2       0\n",
              "3       0\n",
              "4       0\n",
              "       ..\n",
              "6494    1\n",
              "6495    1\n",
              "6496    1\n",
              "6497    0\n",
              "6498    1\n",
              "Name: poisonous, Length: 6499, dtype: int64"
            ]
          },
          "metadata": {},
          "execution_count": 52
        }
      ]
    },
    {
      "cell_type": "code",
      "source": [
        "#import data\n",
        "url = \"https://drive.google.com/file/d/12BXUi6nuUX40ad9uShOR0fSza2sp8kt9/view?usp=sharing\"\n",
        "path = 'https://drive.google.com/uc?export=download&id='+url.split('/')[-2]\n",
        "\n",
        "Data_te = pd.read_csv(path)\n",
        "Data_te"
      ],
      "metadata": {
        "colab": {
          "base_uri": "https://localhost:8080/",
          "height": 424
        },
        "id": "jftK8uA5UMWE",
        "outputId": "83e781bb-60c1-4223-9a54-67d81256c2e8"
      },
      "execution_count": null,
      "outputs": [
        {
          "output_type": "execute_result",
          "data": {
            "text/plain": [
              "        Id cap.shape cap.color stalk.color.above.ring stalk.color.below.ring  \\\n",
              "0     5165         f         w                      w                      w   \n",
              "1     4281         f         g                      n                      p   \n",
              "2      231         x         n                      w                      p   \n",
              "3     3890         f         n                      w                      w   \n",
              "4     1521         x         y                      n                      p   \n",
              "...    ...       ...       ...                    ...                    ...   \n",
              "1620   983         x         n                      w                      y   \n",
              "1621  7055         x         e                      p                      g   \n",
              "1622  7456         x         y                      b                      n   \n",
              "1623  5132         x         w                      w                      w   \n",
              "1624  6821         f         e                      w                      w   \n",
              "\n",
              "      bruises population  \n",
              "0        True          v  \n",
              "1       False          v  \n",
              "2        True          v  \n",
              "3       False          s  \n",
              "4       False          v  \n",
              "...       ...        ...  \n",
              "1620    False          v  \n",
              "1621     True          v  \n",
              "1622    False          y  \n",
              "1623     True          n  \n",
              "1624    False          v  \n",
              "\n",
              "[1625 rows x 7 columns]"
            ],
            "text/html": [
              "\n",
              "  <div id=\"df-bcda0552-ead3-47db-bc36-c2fddd555617\">\n",
              "    <div class=\"colab-df-container\">\n",
              "      <div>\n",
              "<style scoped>\n",
              "    .dataframe tbody tr th:only-of-type {\n",
              "        vertical-align: middle;\n",
              "    }\n",
              "\n",
              "    .dataframe tbody tr th {\n",
              "        vertical-align: top;\n",
              "    }\n",
              "\n",
              "    .dataframe thead th {\n",
              "        text-align: right;\n",
              "    }\n",
              "</style>\n",
              "<table border=\"1\" class=\"dataframe\">\n",
              "  <thead>\n",
              "    <tr style=\"text-align: right;\">\n",
              "      <th></th>\n",
              "      <th>Id</th>\n",
              "      <th>cap.shape</th>\n",
              "      <th>cap.color</th>\n",
              "      <th>stalk.color.above.ring</th>\n",
              "      <th>stalk.color.below.ring</th>\n",
              "      <th>bruises</th>\n",
              "      <th>population</th>\n",
              "    </tr>\n",
              "  </thead>\n",
              "  <tbody>\n",
              "    <tr>\n",
              "      <th>0</th>\n",
              "      <td>5165</td>\n",
              "      <td>f</td>\n",
              "      <td>w</td>\n",
              "      <td>w</td>\n",
              "      <td>w</td>\n",
              "      <td>True</td>\n",
              "      <td>v</td>\n",
              "    </tr>\n",
              "    <tr>\n",
              "      <th>1</th>\n",
              "      <td>4281</td>\n",
              "      <td>f</td>\n",
              "      <td>g</td>\n",
              "      <td>n</td>\n",
              "      <td>p</td>\n",
              "      <td>False</td>\n",
              "      <td>v</td>\n",
              "    </tr>\n",
              "    <tr>\n",
              "      <th>2</th>\n",
              "      <td>231</td>\n",
              "      <td>x</td>\n",
              "      <td>n</td>\n",
              "      <td>w</td>\n",
              "      <td>p</td>\n",
              "      <td>True</td>\n",
              "      <td>v</td>\n",
              "    </tr>\n",
              "    <tr>\n",
              "      <th>3</th>\n",
              "      <td>3890</td>\n",
              "      <td>f</td>\n",
              "      <td>n</td>\n",
              "      <td>w</td>\n",
              "      <td>w</td>\n",
              "      <td>False</td>\n",
              "      <td>s</td>\n",
              "    </tr>\n",
              "    <tr>\n",
              "      <th>4</th>\n",
              "      <td>1521</td>\n",
              "      <td>x</td>\n",
              "      <td>y</td>\n",
              "      <td>n</td>\n",
              "      <td>p</td>\n",
              "      <td>False</td>\n",
              "      <td>v</td>\n",
              "    </tr>\n",
              "    <tr>\n",
              "      <th>...</th>\n",
              "      <td>...</td>\n",
              "      <td>...</td>\n",
              "      <td>...</td>\n",
              "      <td>...</td>\n",
              "      <td>...</td>\n",
              "      <td>...</td>\n",
              "      <td>...</td>\n",
              "    </tr>\n",
              "    <tr>\n",
              "      <th>1620</th>\n",
              "      <td>983</td>\n",
              "      <td>x</td>\n",
              "      <td>n</td>\n",
              "      <td>w</td>\n",
              "      <td>y</td>\n",
              "      <td>False</td>\n",
              "      <td>v</td>\n",
              "    </tr>\n",
              "    <tr>\n",
              "      <th>1621</th>\n",
              "      <td>7055</td>\n",
              "      <td>x</td>\n",
              "      <td>e</td>\n",
              "      <td>p</td>\n",
              "      <td>g</td>\n",
              "      <td>True</td>\n",
              "      <td>v</td>\n",
              "    </tr>\n",
              "    <tr>\n",
              "      <th>1622</th>\n",
              "      <td>7456</td>\n",
              "      <td>x</td>\n",
              "      <td>y</td>\n",
              "      <td>b</td>\n",
              "      <td>n</td>\n",
              "      <td>False</td>\n",
              "      <td>y</td>\n",
              "    </tr>\n",
              "    <tr>\n",
              "      <th>1623</th>\n",
              "      <td>5132</td>\n",
              "      <td>x</td>\n",
              "      <td>w</td>\n",
              "      <td>w</td>\n",
              "      <td>w</td>\n",
              "      <td>True</td>\n",
              "      <td>n</td>\n",
              "    </tr>\n",
              "    <tr>\n",
              "      <th>1624</th>\n",
              "      <td>6821</td>\n",
              "      <td>f</td>\n",
              "      <td>e</td>\n",
              "      <td>w</td>\n",
              "      <td>w</td>\n",
              "      <td>False</td>\n",
              "      <td>v</td>\n",
              "    </tr>\n",
              "  </tbody>\n",
              "</table>\n",
              "<p>1625 rows × 7 columns</p>\n",
              "</div>\n",
              "      <button class=\"colab-df-convert\" onclick=\"convertToInteractive('df-bcda0552-ead3-47db-bc36-c2fddd555617')\"\n",
              "              title=\"Convert this dataframe to an interactive table.\"\n",
              "              style=\"display:none;\">\n",
              "        \n",
              "  <svg xmlns=\"http://www.w3.org/2000/svg\" height=\"24px\"viewBox=\"0 0 24 24\"\n",
              "       width=\"24px\">\n",
              "    <path d=\"M0 0h24v24H0V0z\" fill=\"none\"/>\n",
              "    <path d=\"M18.56 5.44l.94 2.06.94-2.06 2.06-.94-2.06-.94-.94-2.06-.94 2.06-2.06.94zm-11 1L8.5 8.5l.94-2.06 2.06-.94-2.06-.94L8.5 2.5l-.94 2.06-2.06.94zm10 10l.94 2.06.94-2.06 2.06-.94-2.06-.94-.94-2.06-.94 2.06-2.06.94z\"/><path d=\"M17.41 7.96l-1.37-1.37c-.4-.4-.92-.59-1.43-.59-.52 0-1.04.2-1.43.59L10.3 9.45l-7.72 7.72c-.78.78-.78 2.05 0 2.83L4 21.41c.39.39.9.59 1.41.59.51 0 1.02-.2 1.41-.59l7.78-7.78 2.81-2.81c.8-.78.8-2.07 0-2.86zM5.41 20L4 18.59l7.72-7.72 1.47 1.35L5.41 20z\"/>\n",
              "  </svg>\n",
              "      </button>\n",
              "      \n",
              "  <style>\n",
              "    .colab-df-container {\n",
              "      display:flex;\n",
              "      flex-wrap:wrap;\n",
              "      gap: 12px;\n",
              "    }\n",
              "\n",
              "    .colab-df-convert {\n",
              "      background-color: #E8F0FE;\n",
              "      border: none;\n",
              "      border-radius: 50%;\n",
              "      cursor: pointer;\n",
              "      display: none;\n",
              "      fill: #1967D2;\n",
              "      height: 32px;\n",
              "      padding: 0 0 0 0;\n",
              "      width: 32px;\n",
              "    }\n",
              "\n",
              "    .colab-df-convert:hover {\n",
              "      background-color: #E2EBFA;\n",
              "      box-shadow: 0px 1px 2px rgba(60, 64, 67, 0.3), 0px 1px 3px 1px rgba(60, 64, 67, 0.15);\n",
              "      fill: #174EA6;\n",
              "    }\n",
              "\n",
              "    [theme=dark] .colab-df-convert {\n",
              "      background-color: #3B4455;\n",
              "      fill: #D2E3FC;\n",
              "    }\n",
              "\n",
              "    [theme=dark] .colab-df-convert:hover {\n",
              "      background-color: #434B5C;\n",
              "      box-shadow: 0px 1px 3px 1px rgba(0, 0, 0, 0.15);\n",
              "      filter: drop-shadow(0px 1px 2px rgba(0, 0, 0, 0.3));\n",
              "      fill: #FFFFFF;\n",
              "    }\n",
              "  </style>\n",
              "\n",
              "      <script>\n",
              "        const buttonEl =\n",
              "          document.querySelector('#df-bcda0552-ead3-47db-bc36-c2fddd555617 button.colab-df-convert');\n",
              "        buttonEl.style.display =\n",
              "          google.colab.kernel.accessAllowed ? 'block' : 'none';\n",
              "\n",
              "        async function convertToInteractive(key) {\n",
              "          const element = document.querySelector('#df-bcda0552-ead3-47db-bc36-c2fddd555617');\n",
              "          const dataTable =\n",
              "            await google.colab.kernel.invokeFunction('convertToInteractive',\n",
              "                                                     [key], {});\n",
              "          if (!dataTable) return;\n",
              "\n",
              "          const docLinkHtml = 'Like what you see? Visit the ' +\n",
              "            '<a target=\"_blank\" href=https://colab.research.google.com/notebooks/data_table.ipynb>data table notebook</a>'\n",
              "            + ' to learn more about interactive tables.';\n",
              "          element.innerHTML = '';\n",
              "          dataTable['output_type'] = 'display_data';\n",
              "          await google.colab.output.renderOutput(dataTable, element);\n",
              "          const docLink = document.createElement('div');\n",
              "          docLink.innerHTML = docLinkHtml;\n",
              "          element.appendChild(docLink);\n",
              "        }\n",
              "      </script>\n",
              "    </div>\n",
              "  </div>\n",
              "  "
            ]
          },
          "metadata": {},
          "execution_count": 53
        }
      ]
    },
    {
      "cell_type": "code",
      "source": [
        "Data_te.isnull().sum()"
      ],
      "metadata": {
        "colab": {
          "base_uri": "https://localhost:8080/"
        },
        "id": "qXS3WL3QUjPU",
        "outputId": "3deed366-ba84-42f8-cd45-896f2992a1bd"
      },
      "execution_count": null,
      "outputs": [
        {
          "output_type": "execute_result",
          "data": {
            "text/plain": [
              "Id                        0\n",
              "cap.shape                 0\n",
              "cap.color                 0\n",
              "stalk.color.above.ring    0\n",
              "stalk.color.below.ring    0\n",
              "bruises                   0\n",
              "population                0\n",
              "dtype: int64"
            ]
          },
          "metadata": {},
          "execution_count": 54
        }
      ]
    },
    {
      "cell_type": "code",
      "source": [
        "def label_encode_columns(df, columns):\n",
        "    encoders = {}\n",
        "    for col in columns:\n",
        "        le = LabelEncoder().fit(df[col])\n",
        "        df[col] = le.transform(df[col])\n",
        "        encoders[col] = le\n",
        "    return df, encoders"
      ],
      "metadata": {
        "id": "AUl_U47sXkJT"
      },
      "execution_count": null,
      "outputs": []
    },
    {
      "cell_type": "code",
      "source": [
        "encode_columns = list(Data_tr.select_dtypes(['object']).columns)\n",
        "dtr, encoders = label_encode_columns(df=Data_tr, columns=encode_columns)\n",
        "\n",
        "\n",
        "print('Updates dataframe is : \\n' ,dtr )\n",
        " \n",
        "col=list(dtr.columns)"
      ],
      "metadata": {
        "colab": {
          "base_uri": "https://localhost:8080/"
        },
        "id": "2IKySXVYXnDr",
        "outputId": "d1600758-8605-4a04-9cfb-d31d44468058"
      },
      "execution_count": null,
      "outputs": [
        {
          "output_type": "stream",
          "name": "stdout",
          "text": [
            "Updates dataframe is : \n",
            "       cap.shape  cap.color  bruises  stalk.color.above.ring  \\\n",
            "0             3          2    False                       7   \n",
            "1             2          2     True                       6   \n",
            "2             0          8    False                       7   \n",
            "3             3          3    False                       7   \n",
            "4             2          4     True                       6   \n",
            "...         ...        ...      ...                     ...   \n",
            "6494          2          3    False                       0   \n",
            "6495          3          2    False                       6   \n",
            "6496          2          3    False                       4   \n",
            "6497          2          4     True                       7   \n",
            "6498          2          2    False                       6   \n",
            "\n",
            "      stalk.color.below.ring  population    Id  poisonous  \n",
            "0                          7           4  6573          1  \n",
            "1                          7           5  4426          0  \n",
            "2                          7           3  7018          0  \n",
            "3                          7           2  5789          0  \n",
            "4                          3           4  6187          0  \n",
            "...                      ...         ...   ...        ...  \n",
            "6494                       0           4  7002          1  \n",
            "6495                       6           4  7323          1  \n",
            "6496                       0           5  6206          1  \n",
            "6497                       7           3  4658          0  \n",
            "6498                       6           4   373          1  \n",
            "\n",
            "[6499 rows x 8 columns]\n"
          ]
        }
      ]
    },
    {
      "cell_type": "code",
      "source": [
        "dtr.describe()"
      ],
      "metadata": {
        "colab": {
          "base_uri": "https://localhost:8080/",
          "height": 300
        },
        "id": "1GXojx6dZeYs",
        "outputId": "e689be90-de67-4da1-e657-55e8058d4f57"
      },
      "execution_count": null,
      "outputs": [
        {
          "output_type": "execute_result",
          "data": {
            "text/plain": [
              "         cap.shape    cap.color  stalk.color.above.ring  \\\n",
              "count  6499.000000  6499.000000             6499.000000   \n",
              "mean      3.356209     4.486536                5.813818   \n",
              "std       1.599399     2.542152                1.898661   \n",
              "min       0.000000     0.000000                0.000000   \n",
              "25%       2.000000     3.000000                6.000000   \n",
              "50%       3.000000     4.000000                7.000000   \n",
              "75%       5.000000     8.000000                7.000000   \n",
              "max       5.000000     9.000000                8.000000   \n",
              "\n",
              "       stalk.color.below.ring   population           Id    poisonous  \n",
              "count             6499.000000  6499.000000  6499.000000  6499.000000  \n",
              "mean                 5.775812     3.651023  4056.304508     0.485767  \n",
              "std                  1.919845     1.250578  2343.607342     0.499836  \n",
              "min                  0.000000     0.000000     0.000000     0.000000  \n",
              "25%                  6.000000     3.000000  2022.500000     0.000000  \n",
              "50%                  7.000000     4.000000  4058.000000     0.000000  \n",
              "75%                  7.000000     4.000000  6083.500000     1.000000  \n",
              "max                  8.000000     5.000000  8122.000000     1.000000  "
            ],
            "text/html": [
              "\n",
              "  <div id=\"df-73b72ea5-1920-4981-9f45-735fb7f21a87\">\n",
              "    <div class=\"colab-df-container\">\n",
              "      <div>\n",
              "<style scoped>\n",
              "    .dataframe tbody tr th:only-of-type {\n",
              "        vertical-align: middle;\n",
              "    }\n",
              "\n",
              "    .dataframe tbody tr th {\n",
              "        vertical-align: top;\n",
              "    }\n",
              "\n",
              "    .dataframe thead th {\n",
              "        text-align: right;\n",
              "    }\n",
              "</style>\n",
              "<table border=\"1\" class=\"dataframe\">\n",
              "  <thead>\n",
              "    <tr style=\"text-align: right;\">\n",
              "      <th></th>\n",
              "      <th>cap.shape</th>\n",
              "      <th>cap.color</th>\n",
              "      <th>stalk.color.above.ring</th>\n",
              "      <th>stalk.color.below.ring</th>\n",
              "      <th>population</th>\n",
              "      <th>Id</th>\n",
              "      <th>poisonous</th>\n",
              "    </tr>\n",
              "  </thead>\n",
              "  <tbody>\n",
              "    <tr>\n",
              "      <th>count</th>\n",
              "      <td>6499.000000</td>\n",
              "      <td>6499.000000</td>\n",
              "      <td>6499.000000</td>\n",
              "      <td>6499.000000</td>\n",
              "      <td>6499.000000</td>\n",
              "      <td>6499.000000</td>\n",
              "      <td>6499.000000</td>\n",
              "    </tr>\n",
              "    <tr>\n",
              "      <th>mean</th>\n",
              "      <td>3.356209</td>\n",
              "      <td>4.486536</td>\n",
              "      <td>5.813818</td>\n",
              "      <td>5.775812</td>\n",
              "      <td>3.651023</td>\n",
              "      <td>4056.304508</td>\n",
              "      <td>0.485767</td>\n",
              "    </tr>\n",
              "    <tr>\n",
              "      <th>std</th>\n",
              "      <td>1.599399</td>\n",
              "      <td>2.542152</td>\n",
              "      <td>1.898661</td>\n",
              "      <td>1.919845</td>\n",
              "      <td>1.250578</td>\n",
              "      <td>2343.607342</td>\n",
              "      <td>0.499836</td>\n",
              "    </tr>\n",
              "    <tr>\n",
              "      <th>min</th>\n",
              "      <td>0.000000</td>\n",
              "      <td>0.000000</td>\n",
              "      <td>0.000000</td>\n",
              "      <td>0.000000</td>\n",
              "      <td>0.000000</td>\n",
              "      <td>0.000000</td>\n",
              "      <td>0.000000</td>\n",
              "    </tr>\n",
              "    <tr>\n",
              "      <th>25%</th>\n",
              "      <td>2.000000</td>\n",
              "      <td>3.000000</td>\n",
              "      <td>6.000000</td>\n",
              "      <td>6.000000</td>\n",
              "      <td>3.000000</td>\n",
              "      <td>2022.500000</td>\n",
              "      <td>0.000000</td>\n",
              "    </tr>\n",
              "    <tr>\n",
              "      <th>50%</th>\n",
              "      <td>3.000000</td>\n",
              "      <td>4.000000</td>\n",
              "      <td>7.000000</td>\n",
              "      <td>7.000000</td>\n",
              "      <td>4.000000</td>\n",
              "      <td>4058.000000</td>\n",
              "      <td>0.000000</td>\n",
              "    </tr>\n",
              "    <tr>\n",
              "      <th>75%</th>\n",
              "      <td>5.000000</td>\n",
              "      <td>8.000000</td>\n",
              "      <td>7.000000</td>\n",
              "      <td>7.000000</td>\n",
              "      <td>4.000000</td>\n",
              "      <td>6083.500000</td>\n",
              "      <td>1.000000</td>\n",
              "    </tr>\n",
              "    <tr>\n",
              "      <th>max</th>\n",
              "      <td>5.000000</td>\n",
              "      <td>9.000000</td>\n",
              "      <td>8.000000</td>\n",
              "      <td>8.000000</td>\n",
              "      <td>5.000000</td>\n",
              "      <td>8122.000000</td>\n",
              "      <td>1.000000</td>\n",
              "    </tr>\n",
              "  </tbody>\n",
              "</table>\n",
              "</div>\n",
              "      <button class=\"colab-df-convert\" onclick=\"convertToInteractive('df-73b72ea5-1920-4981-9f45-735fb7f21a87')\"\n",
              "              title=\"Convert this dataframe to an interactive table.\"\n",
              "              style=\"display:none;\">\n",
              "        \n",
              "  <svg xmlns=\"http://www.w3.org/2000/svg\" height=\"24px\"viewBox=\"0 0 24 24\"\n",
              "       width=\"24px\">\n",
              "    <path d=\"M0 0h24v24H0V0z\" fill=\"none\"/>\n",
              "    <path d=\"M18.56 5.44l.94 2.06.94-2.06 2.06-.94-2.06-.94-.94-2.06-.94 2.06-2.06.94zm-11 1L8.5 8.5l.94-2.06 2.06-.94-2.06-.94L8.5 2.5l-.94 2.06-2.06.94zm10 10l.94 2.06.94-2.06 2.06-.94-2.06-.94-.94-2.06-.94 2.06-2.06.94z\"/><path d=\"M17.41 7.96l-1.37-1.37c-.4-.4-.92-.59-1.43-.59-.52 0-1.04.2-1.43.59L10.3 9.45l-7.72 7.72c-.78.78-.78 2.05 0 2.83L4 21.41c.39.39.9.59 1.41.59.51 0 1.02-.2 1.41-.59l7.78-7.78 2.81-2.81c.8-.78.8-2.07 0-2.86zM5.41 20L4 18.59l7.72-7.72 1.47 1.35L5.41 20z\"/>\n",
              "  </svg>\n",
              "      </button>\n",
              "      \n",
              "  <style>\n",
              "    .colab-df-container {\n",
              "      display:flex;\n",
              "      flex-wrap:wrap;\n",
              "      gap: 12px;\n",
              "    }\n",
              "\n",
              "    .colab-df-convert {\n",
              "      background-color: #E8F0FE;\n",
              "      border: none;\n",
              "      border-radius: 50%;\n",
              "      cursor: pointer;\n",
              "      display: none;\n",
              "      fill: #1967D2;\n",
              "      height: 32px;\n",
              "      padding: 0 0 0 0;\n",
              "      width: 32px;\n",
              "    }\n",
              "\n",
              "    .colab-df-convert:hover {\n",
              "      background-color: #E2EBFA;\n",
              "      box-shadow: 0px 1px 2px rgba(60, 64, 67, 0.3), 0px 1px 3px 1px rgba(60, 64, 67, 0.15);\n",
              "      fill: #174EA6;\n",
              "    }\n",
              "\n",
              "    [theme=dark] .colab-df-convert {\n",
              "      background-color: #3B4455;\n",
              "      fill: #D2E3FC;\n",
              "    }\n",
              "\n",
              "    [theme=dark] .colab-df-convert:hover {\n",
              "      background-color: #434B5C;\n",
              "      box-shadow: 0px 1px 3px 1px rgba(0, 0, 0, 0.15);\n",
              "      filter: drop-shadow(0px 1px 2px rgba(0, 0, 0, 0.3));\n",
              "      fill: #FFFFFF;\n",
              "    }\n",
              "  </style>\n",
              "\n",
              "      <script>\n",
              "        const buttonEl =\n",
              "          document.querySelector('#df-73b72ea5-1920-4981-9f45-735fb7f21a87 button.colab-df-convert');\n",
              "        buttonEl.style.display =\n",
              "          google.colab.kernel.accessAllowed ? 'block' : 'none';\n",
              "\n",
              "        async function convertToInteractive(key) {\n",
              "          const element = document.querySelector('#df-73b72ea5-1920-4981-9f45-735fb7f21a87');\n",
              "          const dataTable =\n",
              "            await google.colab.kernel.invokeFunction('convertToInteractive',\n",
              "                                                     [key], {});\n",
              "          if (!dataTable) return;\n",
              "\n",
              "          const docLinkHtml = 'Like what you see? Visit the ' +\n",
              "            '<a target=\"_blank\" href=https://colab.research.google.com/notebooks/data_table.ipynb>data table notebook</a>'\n",
              "            + ' to learn more about interactive tables.';\n",
              "          element.innerHTML = '';\n",
              "          dataTable['output_type'] = 'display_data';\n",
              "          await google.colab.output.renderOutput(dataTable, element);\n",
              "          const docLink = document.createElement('div');\n",
              "          docLink.innerHTML = docLinkHtml;\n",
              "          element.appendChild(docLink);\n",
              "        }\n",
              "      </script>\n",
              "    </div>\n",
              "  </div>\n",
              "  "
            ]
          },
          "metadata": {},
          "execution_count": 57
        }
      ]
    },
    {
      "cell_type": "code",
      "source": [
        "dtr1=dtr"
      ],
      "metadata": {
        "id": "aW7bJcXwZBL2"
      },
      "execution_count": 72,
      "outputs": []
    },
    {
      "cell_type": "code",
      "source": [
        "import seaborn as sns\n",
        "\n",
        "for i in dtr.columns:\n",
        " sns.barplot(x = i,\n",
        "            y = ytr1,\n",
        "            #hue = 'class',\n",
        "            data = dtr)\n"
      ],
      "metadata": {
        "colab": {
          "base_uri": "https://localhost:8080/",
          "height": 279
        },
        "id": "wIZxX2dcZ4ba",
        "outputId": "36b3b764-8265-4343-9f16-3deb05624c95"
      },
      "execution_count": null,
      "outputs": [
        {
          "output_type": "display_data",
          "data": {
            "text/plain": [
              "<Figure size 432x288 with 1 Axes>"
            ],
            "image/png": "[encoded data removed]"
          },
          "metadata": {
            "needs_background": "light"
          }
        }
      ]
    },
    {
      "cell_type": "code",
      "source": [
        "dtr1"
      ],
      "metadata": {
        "colab": {
          "base_uri": "https://localhost:8080/",
          "height": 424
        },
        "id": "rBCzzZ4Fl7bf",
        "outputId": "3d2b9fac-51d2-40d5-986d-6e9057733753"
      },
      "execution_count": 69,
      "outputs": [
        {
          "output_type": "execute_result",
          "data": {
            "text/plain": [
              "      cap.shape  cap.color  bruises  stalk.color.above.ring  \\\n",
              "0             3          2    False                       7   \n",
              "1             2          2     True                       6   \n",
              "2             0          8    False                       7   \n",
              "3             3          3    False                       7   \n",
              "4             2          4     True                       6   \n",
              "...         ...        ...      ...                     ...   \n",
              "6494          2          3    False                       0   \n",
              "6495          3          2    False                       6   \n",
              "6496          2          3    False                       4   \n",
              "6497          2          4     True                       7   \n",
              "6498          2          2    False                       6   \n",
              "\n",
              "      stalk.color.below.ring  population    Id  \n",
              "0                          7           4  6573  \n",
              "1                          7           5  4426  \n",
              "2                          7           3  7018  \n",
              "3                          7           2  5789  \n",
              "4                          3           4  6187  \n",
              "...                      ...         ...   ...  \n",
              "6494                       0           4  7002  \n",
              "6495                       6           4  7323  \n",
              "6496                       0           5  6206  \n",
              "6497                       7           3  4658  \n",
              "6498                       6           4   373  \n",
              "\n",
              "[6499 rows x 7 columns]"
            ],
            "text/html": [
              "\n",
              "  <div id=\"df-3e5281d1-d5e5-468b-b59b-5f392d545fd9\">\n",
              "    <div class=\"colab-df-container\">\n",
              "      <div>\n",
              "<style scoped>\n",
              "    .dataframe tbody tr th:only-of-type {\n",
              "        vertical-align: middle;\n",
              "    }\n",
              "\n",
              "    .dataframe tbody tr th {\n",
              "        vertical-align: top;\n",
              "    }\n",
              "\n",
              "    .dataframe thead th {\n",
              "        text-align: right;\n",
              "    }\n",
              "</style>\n",
              "<table border=\"1\" class=\"dataframe\">\n",
              "  <thead>\n",
              "    <tr style=\"text-align: right;\">\n",
              "      <th></th>\n",
              "      <th>cap.shape</th>\n",
              "      <th>cap.color</th>\n",
              "      <th>bruises</th>\n",
              "      <th>stalk.color.above.ring</th>\n",
              "      <th>stalk.color.below.ring</th>\n",
              "      <th>population</th>\n",
              "      <th>Id</th>\n",
              "    </tr>\n",
              "  </thead>\n",
              "  <tbody>\n",
              "    <tr>\n",
              "      <th>0</th>\n",
              "      <td>3</td>\n",
              "      <td>2</td>\n",
              "      <td>False</td>\n",
              "      <td>7</td>\n",
              "      <td>7</td>\n",
              "      <td>4</td>\n",
              "      <td>6573</td>\n",
              "    </tr>\n",
              "    <tr>\n",
              "      <th>1</th>\n",
              "      <td>2</td>\n",
              "      <td>2</td>\n",
              "      <td>True</td>\n",
              "      <td>6</td>\n",
              "      <td>7</td>\n",
              "      <td>5</td>\n",
              "      <td>4426</td>\n",
              "    </tr>\n",
              "    <tr>\n",
              "      <th>2</th>\n",
              "      <td>0</td>\n",
              "      <td>8</td>\n",
              "      <td>False</td>\n",
              "      <td>7</td>\n",
              "      <td>7</td>\n",
              "      <td>3</td>\n",
              "      <td>7018</td>\n",
              "    </tr>\n",
              "    <tr>\n",
              "      <th>3</th>\n",
              "      <td>3</td>\n",
              "      <td>3</td>\n",
              "      <td>False</td>\n",
              "      <td>7</td>\n",
              "      <td>7</td>\n",
              "      <td>2</td>\n",
              "      <td>5789</td>\n",
              "    </tr>\n",
              "    <tr>\n",
              "      <th>4</th>\n",
              "      <td>2</td>\n",
              "      <td>4</td>\n",
              "      <td>True</td>\n",
              "      <td>6</td>\n",
              "      <td>3</td>\n",
              "      <td>4</td>\n",
              "      <td>6187</td>\n",
              "    </tr>\n",
              "    <tr>\n",
              "      <th>...</th>\n",
              "      <td>...</td>\n",
              "      <td>...</td>\n",
              "      <td>...</td>\n",
              "      <td>...</td>\n",
              "      <td>...</td>\n",
              "      <td>...</td>\n",
              "      <td>...</td>\n",
              "    </tr>\n",
              "    <tr>\n",
              "      <th>6494</th>\n",
              "      <td>2</td>\n",
              "      <td>3</td>\n",
              "      <td>False</td>\n",
              "      <td>0</td>\n",
              "      <td>0</td>\n",
              "      <td>4</td>\n",
              "      <td>7002</td>\n",
              "    </tr>\n",
              "    <tr>\n",
              "      <th>6495</th>\n",
              "      <td>3</td>\n",
              "      <td>2</td>\n",
              "      <td>False</td>\n",
              "      <td>6</td>\n",
              "      <td>6</td>\n",
              "      <td>4</td>\n",
              "      <td>7323</td>\n",
              "    </tr>\n",
              "    <tr>\n",
              "      <th>6496</th>\n",
              "      <td>2</td>\n",
              "      <td>3</td>\n",
              "      <td>False</td>\n",
              "      <td>4</td>\n",
              "      <td>0</td>\n",
              "      <td>5</td>\n",
              "      <td>6206</td>\n",
              "    </tr>\n",
              "    <tr>\n",
              "      <th>6497</th>\n",
              "      <td>2</td>\n",
              "      <td>4</td>\n",
              "      <td>True</td>\n",
              "      <td>7</td>\n",
              "      <td>7</td>\n",
              "      <td>3</td>\n",
              "      <td>4658</td>\n",
              "    </tr>\n",
              "    <tr>\n",
              "      <th>6498</th>\n",
              "      <td>2</td>\n",
              "      <td>2</td>\n",
              "      <td>False</td>\n",
              "      <td>6</td>\n",
              "      <td>6</td>\n",
              "      <td>4</td>\n",
              "      <td>373</td>\n",
              "    </tr>\n",
              "  </tbody>\n",
              "</table>\n",
              "<p>6499 rows × 7 columns</p>\n",
              "</div>\n",
              "      <button class=\"colab-df-convert\" onclick=\"convertToInteractive('df-3e5281d1-d5e5-468b-b59b-5f392d545fd9')\"\n",
              "              title=\"Convert this dataframe to an interactive table.\"\n",
              "              style=\"display:none;\">\n",
              "        \n",
              "  <svg xmlns=\"http://www.w3.org/2000/svg\" height=\"24px\"viewBox=\"0 0 24 24\"\n",
              "       width=\"24px\">\n",
              "    <path d=\"M0 0h24v24H0V0z\" fill=\"none\"/>\n",
              "    <path d=\"M18.56 5.44l.94 2.06.94-2.06 2.06-.94-2.06-.94-.94-2.06-.94 2.06-2.06.94zm-11 1L8.5 8.5l.94-2.06 2.06-.94-2.06-.94L8.5 2.5l-.94 2.06-2.06.94zm10 10l.94 2.06.94-2.06 2.06-.94-2.06-.94-.94-2.06-.94 2.06-2.06.94z\"/><path d=\"M17.41 7.96l-1.37-1.37c-.4-.4-.92-.59-1.43-.59-.52 0-1.04.2-1.43.59L10.3 9.45l-7.72 7.72c-.78.78-.78 2.05 0 2.83L4 21.41c.39.39.9.59 1.41.59.51 0 1.02-.2 1.41-.59l7.78-7.78 2.81-2.81c.8-.78.8-2.07 0-2.86zM5.41 20L4 18.59l7.72-7.72 1.47 1.35L5.41 20z\"/>\n",
              "  </svg>\n",
              "      </button>\n",
              "      \n",
              "  <style>\n",
              "    .colab-df-container {\n",
              "      display:flex;\n",
              "      flex-wrap:wrap;\n",
              "      gap: 12px;\n",
              "    }\n",
              "\n",
              "    .colab-df-convert {\n",
              "      background-color: #E8F0FE;\n",
              "      border: none;\n",
              "      border-radius: 50%;\n",
              "      cursor: pointer;\n",
              "      display: none;\n",
              "      fill: #1967D2;\n",
              "      height: 32px;\n",
              "      padding: 0 0 0 0;\n",
              "      width: 32px;\n",
              "    }\n",
              "\n",
              "    .colab-df-convert:hover {\n",
              "      background-color: #E2EBFA;\n",
              "      box-shadow: 0px 1px 2px rgba(60, 64, 67, 0.3), 0px 1px 3px 1px rgba(60, 64, 67, 0.15);\n",
              "      fill: #174EA6;\n",
              "    }\n",
              "\n",
              "    [theme=dark] .colab-df-convert {\n",
              "      background-color: #3B4455;\n",
              "      fill: #D2E3FC;\n",
              "    }\n",
              "\n",
              "    [theme=dark] .colab-df-convert:hover {\n",
              "      background-color: #434B5C;\n",
              "      box-shadow: 0px 1px 3px 1px rgba(0, 0, 0, 0.15);\n",
              "      filter: drop-shadow(0px 1px 2px rgba(0, 0, 0, 0.3));\n",
              "      fill: #FFFFFF;\n",
              "    }\n",
              "  </style>\n",
              "\n",
              "      <script>\n",
              "        const buttonEl =\n",
              "          document.querySelector('#df-3e5281d1-d5e5-468b-b59b-5f392d545fd9 button.colab-df-convert');\n",
              "        buttonEl.style.display =\n",
              "          google.colab.kernel.accessAllowed ? 'block' : 'none';\n",
              "\n",
              "        async function convertToInteractive(key) {\n",
              "          const element = document.querySelector('#df-3e5281d1-d5e5-468b-b59b-5f392d545fd9');\n",
              "          const dataTable =\n",
              "            await google.colab.kernel.invokeFunction('convertToInteractive',\n",
              "                                                     [key], {});\n",
              "          if (!dataTable) return;\n",
              "\n",
              "          const docLinkHtml = 'Like what you see? Visit the ' +\n",
              "            '<a target=\"_blank\" href=https://colab.research.google.com/notebooks/data_table.ipynb>data table notebook</a>'\n",
              "            + ' to learn more about interactive tables.';\n",
              "          element.innerHTML = '';\n",
              "          dataTable['output_type'] = 'display_data';\n",
              "          await google.colab.output.renderOutput(dataTable, element);\n",
              "          const docLink = document.createElement('div');\n",
              "          docLink.innerHTML = docLinkHtml;\n",
              "          element.appendChild(docLink);\n",
              "        }\n",
              "      </script>\n",
              "    </div>\n",
              "  </div>\n",
              "  "
            ]
          },
          "metadata": {},
          "execution_count": 69
        }
      ]
    },
    {
      "cell_type": "code",
      "source": [
        "fig,ax = plt.subplots(figsize=(25, 25))\n",
        "sns.heatmap(dtr.corr(), annot = True,cmap= 'Blues')#, fmt='.6g'"
      ],
      "metadata": {
        "colab": {
          "base_uri": "https://localhost:8080/",
          "height": 1000
        },
        "id": "rzNHxsiYsnf7",
        "outputId": "811656ac-a115-459d-9410-60eaff2774a1"
      },
      "execution_count": null,
      "outputs": [
        {
          "output_type": "execute_result",
          "data": {
            "text/plain": [
              "<matplotlib.axes._subplots.AxesSubplot at 0x7febbc1fd790>"
            ]
          },
          "metadata": {},
          "execution_count": 60
        },
        {
          "output_type": "display_data",
          "data": {
            "text/plain": [
              "<Figure size 1800x1800 with 2 Axes>"
            ],
            "image/png": "[encoded data removed]"
          },
          "metadata": {
            "needs_background": "light"
          }
        }
      ]
    },
    {
      "cell_type": "code",
      "source": [
        "dtr1.info()"
      ],
      "metadata": {
        "colab": {
          "base_uri": "https://localhost:8080/"
        },
        "id": "0rBFJmzktGXT",
        "outputId": "c85f81e9-0cd6-404c-ac85-84b19eff1d11"
      },
      "execution_count": 73,
      "outputs": [
        {
          "output_type": "stream",
          "name": "stdout",
          "text": [
            "<class 'pandas.core.frame.DataFrame'>\n",
            "RangeIndex: 6499 entries, 0 to 6498\n",
            "Data columns (total 8 columns):\n",
            " #   Column                  Non-Null Count  Dtype\n",
            "---  ------                  --------------  -----\n",
            " 0   cap.shape               6499 non-null   int64\n",
            " 1   cap.color               6499 non-null   int64\n",
            " 2   bruises                 6499 non-null   bool \n",
            " 3   stalk.color.above.ring  6499 non-null   int64\n",
            " 4   stalk.color.below.ring  6499 non-null   int64\n",
            " 5   population              6499 non-null   int64\n",
            " 6   Id                      6499 non-null   int64\n",
            " 7   poisonous               6499 non-null   int64\n",
            "dtypes: bool(1), int64(7)\n",
            "memory usage: 361.9 KB\n"
          ]
        }
      ]
    },
    {
      "cell_type": "code",
      "source": [
        "print('Data Shape = ',dtr1.shape)\n",
        "encode_columns = list(dtr1.columns)\n",
        "dtr_coorr=[]\n",
        "Drop_col=[]\n",
        "for i in encode_columns:\n",
        "    if((dtr1[i].corr(dtr1['poisonous']) <= 0.07) and (dtr1[i].corr(dtr1['poisonous'])>= -0.07)):\n",
        "        #New_Data.drop(i, axis=1, inplace=True)\n",
        "        Drop_col.append(i)\n",
        "        print(i)\n",
        "    elif((dtr1[i].corr(dtr1['poisonous']) >= 0.1) or (dtr1[i].corr(dtr1['poisonous'])<= -0.1)):\n",
        "         dtr_coorr.append([dtr1['poisonous'].corr(dtr1[i]),i])"
      ],
      "metadata": {
        "colab": {
          "base_uri": "https://localhost:8080/"
        },
        "id": "eZlGsoQ_vXRC",
        "outputId": "e9d5ddba-a360-4942-f785-78de7cf66c67"
      },
      "execution_count": 74,
      "outputs": [
        {
          "output_type": "stream",
          "name": "stdout",
          "text": [
            "Data Shape =  (6499, 8)\n",
            "cap.shape\n",
            "cap.color\n",
            "Id\n"
          ]
        }
      ]
    },
    {
      "cell_type": "code",
      "source": [
        "dtr_coorr= np.reshape(dtr_coorr,(len(dtr_coorr),len(dtr_coorr[0])))\n",
        "dtr_coorr = pd.DataFrame(dtr_coorr)\n",
        "dtr_coorr=dtr_coorr.set_index(dtr_coorr[0])\n",
        "dtr_coorr=dtr_coorr.iloc[:, 1]\n",
        "\n",
        "dtr_coorr=dtr_coorr.sort_index(ascending=False)"
      ],
      "metadata": {
        "id": "Lcjy2nd012g4"
      },
      "execution_count": 75,
      "outputs": []
    },
    {
      "cell_type": "code",
      "source": [
        "print(dtr_coorr)"
      ],
      "metadata": {
        "colab": {
          "base_uri": "https://localhost:8080/"
        },
        "id": "xExCKsKR2Lg5",
        "outputId": "60163c5b-a14a-4da8-a35d-6cf3d1a951da"
      },
      "execution_count": null,
      "outputs": [
        {
          "output_type": "stream",
          "name": "stdout",
          "text": [
            "0\n",
            "1.0                                  poisonous\n",
            "0.29561308310622364                 population\n",
            "-0.4936207920863598                    bruises\n",
            "-0.15295350193835358    stalk.color.above.ring\n",
            "-0.14196671004268227    stalk.color.below.ring\n",
            "Name: 1, dtype: object\n"
          ]
        }
      ]
    },
    {
      "cell_type": "code",
      "source": [
        "dtr_corr=dtr_coorr[:8]\n",
        "for i in  dtr_corr:\n",
        "    if i =='poisonous'  or i=='bruises':\n",
        "        continue\n",
        "    Q1=dtr1[i].quantile(0.25)\n",
        "    Q3=dtr1[i].quantile(0.75)    \n",
        "    IQR = Q3 - Q1\n",
        "    lowqe_bound=Q1 - 1.5 * IQR\n",
        "    upper_bound=Q3 + 1.5 * IQR\n",
        "    print(lowqe_bound)\n",
        "    price_df=dtr1[i]\n",
        "    dtr1[i] = dtr1[i][~((dtr1[i] < lowqe_bound) |(dtr1[i] > upper_bound))]\n",
        "    print('********')"
      ],
      "metadata": {
        "colab": {
          "base_uri": "https://localhost:8080/"
        },
        "id": "H-RPcGFuSAUd",
        "outputId": "a5f28d2c-3823-4ddb-f01c-4e1f7617dae5"
      },
      "execution_count": 76,
      "outputs": [
        {
          "output_type": "stream",
          "name": "stdout",
          "text": [
            "1.5\n",
            "********\n",
            "4.5\n",
            "********\n",
            "4.5\n",
            "********\n"
          ]
        }
      ]
    },
    {
      "cell_type": "code",
      "source": [
        "from sklearn.impute import SimpleImputer\n",
        "from sklearn import preprocessing\n",
        "from sklearn.preprocessing import StandardScaler\n",
        "from sklearn.preprocessing import LabelEncoder\n",
        "from sklearn.decomposition import PCA"
      ],
      "metadata": {
        "id": "YUMT5HK8ZWUI"
      },
      "execution_count": null,
      "outputs": []
    },
    {
      "cell_type": "code",
      "source": [
        "#col=dtr.columns\n",
        "#imp = SimpleImputer(missing_values=np.NAN, strategy='mean')\n",
        "#imp = imp.fit(dtr)\n",
        "#dtr = imp.transform(dtr)\n",
        "#dtr= np.reshape(dtr,(len(dtr),len(dtr[0])))\n",
        "#dtr = pd.DataFrame(dtr,columns=col)"
      ],
      "metadata": {
        "id": "NVx1JXG2ZBtj"
      },
      "execution_count": null,
      "outputs": []
    },
    {
      "cell_type": "code",
      "source": [
        "ytr1"
      ],
      "metadata": {
        "colab": {
          "base_uri": "https://localhost:8080/"
        },
        "id": "UGJ_JadqbhCZ",
        "outputId": "d4d6066d-66c6-41f2-bcb7-1d8a7e9815de"
      },
      "execution_count": null,
      "outputs": [
        {
          "output_type": "execute_result",
          "data": {
            "text/plain": [
              "0       1\n",
              "1       0\n",
              "2       0\n",
              "3       0\n",
              "4       0\n",
              "       ..\n",
              "6494    1\n",
              "6495    1\n",
              "6496    1\n",
              "6497    0\n",
              "6498    1\n",
              "Name: poisonous, Length: 6499, dtype: int64"
            ]
          },
          "metadata": {},
          "execution_count": 22
        }
      ]
    },
    {
      "cell_type": "code",
      "source": [
        "#dtr1.append(Data_tr['poisonous'])"
      ],
      "metadata": {
        "id": "0fIxfXRYbS6i"
      },
      "execution_count": null,
      "outputs": []
    },
    {
      "cell_type": "code",
      "source": [
        "dtr1.fillna(dtr1.mean(),inplace=True)"
      ],
      "metadata": {
        "id": "ZPYvhADLgNQg"
      },
      "execution_count": 77,
      "outputs": []
    },
    {
      "cell_type": "code",
      "source": [
        "#print('Data Shape = ',dtr1.shape)\n",
        "encode_columns = list(dtr1.columns)\n",
        "dtr_coorr=[]\n",
        "Drop_col=[]\n",
        "for i in encode_columns:\n",
        "    if((dtr1[i].corr(dtr1['poisonous']) <= 0.07) and (dtr1[i].corr(dtr1['poisonous'])>= -0.07)):\n",
        "        #New_Data.drop(i, axis=1, inplace=True)\n",
        "        Drop_col.append(i)\n",
        "        print(i)\n",
        "    elif((dtr1[i].corr(dtr1['poisonous']) >= 0.1) or (dtr1[i].corr(dtr1['poisonous'])<= -0.1)):\n",
        "         dtr_coorr.append([dtr1['poisonous'].corr(dtr1[i]),i])"
      ],
      "metadata": {
        "colab": {
          "base_uri": "https://localhost:8080/"
        },
        "id": "ErBLpuieaTka",
        "outputId": "55818a7f-ce06-4803-a17e-3db43ef66b6f"
      },
      "execution_count": 78,
      "outputs": [
        {
          "output_type": "stream",
          "name": "stdout",
          "text": [
            "cap.shape\n",
            "cap.color\n",
            "Id\n"
          ]
        }
      ]
    },
    {
      "cell_type": "code",
      "source": [
        "dtr = pd.DataFrame(dtr,columns=dtr.columns)"
      ],
      "metadata": {
        "id": "dFMzhiLZa77q"
      },
      "execution_count": null,
      "outputs": []
    },
    {
      "cell_type": "code",
      "source": [
        "Drop_col"
      ],
      "metadata": {
        "colab": {
          "base_uri": "https://localhost:8080/"
        },
        "id": "IErIlYDjc7BJ",
        "outputId": "80cf0797-2f07-4b9a-fcaf-623508515365"
      },
      "execution_count": null,
      "outputs": [
        {
          "output_type": "execute_result",
          "data": {
            "text/plain": [
              "['cap.shape', 'cap.color']"
            ]
          },
          "metadata": {},
          "execution_count": 27
        }
      ]
    },
    {
      "cell_type": "code",
      "source": [
        "#Drop_col\n",
        "#D=dtr\n",
        "#x=D.loc[:,Drop_col]\n",
        "x=dtr1\n",
        "\n",
        "model = PCA(n_components= 2, svd_solver='full')#it can be full,arpack,randomized\n",
        "model.fit(x)\n",
        "\n",
        "data = model.transform(x)\n",
        "data = pd.DataFrame(data)\n",
        "\n",
        "#New_Data = pd.concat([New_Data, data], axis=1)\n",
        "dtr1.drop(Drop_col, axis=1, inplace=True)"
      ],
      "metadata": {
        "id": "kuU4Dbebyfda"
      },
      "execution_count": 79,
      "outputs": []
    },
    {
      "cell_type": "code",
      "source": [
        "dtr1.isnull().sum()"
      ],
      "metadata": {
        "colab": {
          "base_uri": "https://localhost:8080/"
        },
        "id": "dZSFZcYOgCDg",
        "outputId": "07a862ed-ab80-4bc7-b0f0-176347cdc9ac"
      },
      "execution_count": 80,
      "outputs": [
        {
          "output_type": "execute_result",
          "data": {
            "text/plain": [
              "bruises                   0\n",
              "stalk.color.above.ring    0\n",
              "stalk.color.below.ring    0\n",
              "population                0\n",
              "poisonous                 0\n",
              "dtype: int64"
            ]
          },
          "metadata": {},
          "execution_count": 80
        }
      ]
    },
    {
      "cell_type": "code",
      "source": [
        "from sklearn.linear_model import LinearRegression\n",
        "from sklearn.svm import SVR\n",
        "from sklearn.tree import DecisionTreeRegressor\n",
        "from sklearn.ensemble import RandomForestRegressor\n",
        "from sklearn.pipeline import Pipeline\n",
        "from sklearn.linear_model import Ridge\n",
        "from sklearn.model_selection import GridSearchCV\n",
        "from sklearn.metrics import mean_squared_error \n",
        "from sklearn.metrics import accuracy_score"
      ],
      "metadata": {
        "id": "kXYMkVpct1PL"
      },
      "execution_count": null,
      "outputs": []
    },
    {
      "cell_type": "code",
      "source": [
        "from sklearn.model_selection import train_test_split\n"
      ],
      "metadata": {
        "id": "GHylCOGVdyyg"
      },
      "execution_count": null,
      "outputs": []
    },
    {
      "cell_type": "code",
      "source": [
        "X_train,X_test, y_train, y_test = train_test_split(dtr1, ytr1, test_size=0.15, random_state=137)"
      ],
      "metadata": {
        "id": "jE2hTD7TzQSR"
      },
      "execution_count": 81,
      "outputs": []
    },
    {
      "cell_type": "code",
      "source": [
        "VD=dtr1.iloc[:,1]\n",
        "VD=(VD-VD.min())/(VD.std())"
      ],
      "metadata": {
        "id": "z9FoUWihek0h"
      },
      "execution_count": 82,
      "outputs": []
    },
    {
      "cell_type": "code",
      "source": [
        "#DTR = DecisionTreeRegressor(random_state=True)\n",
        "from sklearn.tree import DecisionTreeClassifier\n",
        "DTR = DecisionTreeClassifier(\n",
        "    max_depth=3,\n",
        "                                 min_samples_split=2,\n",
        "                                 criterion=\"gini\",\n",
        "                                 random_state=2\n",
        ")   #random_state=True\n",
        "DTR.fit(X_train,y_train)\n",
        "print('DecisionTreeClassifier')\n",
        "print('score = ',DTR.score(X_train,y_train))\n",
        "VD_predict2=DTR.predict(X_test)\n",
        "#MSEValue = mean_squared_error(VD, VD_predict2, multioutput='uniform_average')\n",
        "#print('Mean_squared_error = ',MSEValue)"
      ],
      "metadata": {
        "colab": {
          "base_uri": "https://localhost:8080/"
        },
        "id": "QT_p0Gq2uJsT",
        "outputId": "bd9ab1ca-45bb-4974-aeff-46726fef91e4"
      },
      "execution_count": 98,
      "outputs": [
        {
          "output_type": "stream",
          "name": "stdout",
          "text": [
            "DecisionTreeClassifier\n",
            "score =  1.0\n"
          ]
        }
      ]
    },
    {
      "cell_type": "code",
      "source": [
        "param_grid = {\n",
        "    'decisiontreeclassifier__max_depth': range(2, 12),\n",
        "    'decisiontreeclassifier__min_samples_leaf': range(3, 11, 2),\n",
        "    'decisiontreeclassifier__min_samples_split': range(3, 40, 5),\n",
        "    'decisiontreeclassifier__criterion':['gini', 'entropy']\n",
        "    }\n",
        "    \n",
        "from sklearn.model_selection import RandomizedSearchCV\n",
        " \n",
        "search = RandomizedSearchCV(DTR, # you have defined this beforehand\n",
        "                      param_grid, # your parameter grid\n",
        "                      n_iter=10,\n",
        "                      #cv=9, # the value for K in K-fold Cross Validation\n",
        "                      scoring='accuracy', # the performance metric to use, \n",
        "                      n_jobs=-1,\n",
        "                      cv=9, # the value for K in K-fold Cross Validation\n",
        "                      random_state=5) # we want informative outputs during the training process\n",
        "#search.fit(X_train, y_train)                      "
      ],
      "metadata": {
        "id": "16zPOFfOmBd1"
      },
      "execution_count": 99,
      "outputs": []
    },
    {
      "cell_type": "code",
      "source": [
        "DTR.get_params().keys()"
      ],
      "metadata": {
        "colab": {
          "base_uri": "https://localhost:8080/"
        },
        "id": "2VB-anLEeSFY",
        "outputId": "d9bfeb9b-96c6-4ec8-c3b6-9f405f9b2977"
      },
      "execution_count": 101,
      "outputs": [
        {
          "output_type": "execute_result",
          "data": {
            "text/plain": [
              "dict_keys(['ccp_alpha', 'class_weight', 'criterion', 'max_depth', 'max_features', 'max_leaf_nodes', 'min_impurity_decrease', 'min_samples_leaf', 'min_samples_split', 'min_weight_fraction_leaf', 'random_state', 'splitter'])"
            ]
          },
          "metadata": {},
          "execution_count": 101
        }
      ]
    },
    {
      "cell_type": "code",
      "source": [
        "from sklearn.metrics import classification_report\n",
        "\n",
        "classification_report(y_test, VD_predict2,labels=None, target_names=None, sample_weight=None, digits=2, output_dict=False, zero_division='warn')"
      ],
      "metadata": {
        "colab": {
          "base_uri": "https://localhost:8080/",
          "height": 52
        },
        "id": "TxhajDqynGGJ",
        "outputId": "e8c120fc-0f2e-42b2-f226-c6a2d0b3a48b"
      },
      "execution_count": 102,
      "outputs": [
        {
          "output_type": "execute_result",
          "data": {
            "text/plain": [
              "'              precision    recall  f1-score   support\\n\\n           0       1.00      1.00      1.00       511\\n           1       1.00      1.00      1.00       464\\n\\n    accuracy                           1.00       975\\n   macro avg       1.00      1.00      1.00       975\\nweighted avg       1.00      1.00      1.00       975\\n'"
            ],
            "application/vnd.google.colaboratory.intrinsic+json": {
              "type": "string"
            }
          },
          "metadata": {},
          "execution_count": 102
        }
      ]
    },
    {
      "cell_type": "code",
      "source": [
        "print(classification_report(y_test, VD_predict2))"
      ],
      "metadata": {
        "colab": {
          "base_uri": "https://localhost:8080/"
        },
        "id": "QR2KeYZJnjsR",
        "outputId": "b0bea183-59bf-418e-9500-fd1cfd46fc01"
      },
      "execution_count": 103,
      "outputs": [
        {
          "output_type": "stream",
          "name": "stdout",
          "text": [
            "              precision    recall  f1-score   support\n",
            "\n",
            "           0       1.00      1.00      1.00       511\n",
            "           1       1.00      1.00      1.00       464\n",
            "\n",
            "    accuracy                           1.00       975\n",
            "   macro avg       1.00      1.00      1.00       975\n",
            "weighted avg       1.00      1.00      1.00       975\n",
            "\n"
          ]
        }
      ]
    }
  ]
}