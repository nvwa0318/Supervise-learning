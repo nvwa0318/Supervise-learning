{
  "nbformat": 4,
  "nbformat_minor": 0,
  "metadata": {
    "colab": {
      "provenance": [],
      "authorship_tag": "ABX9TyNJo14hecdEv8XEdEMrAj79",
      "include_colab_link": true
    },
    "kernelspec": {
      "name": "python3",
      "display_name": "Python 3"
    },
    "language_info": {
      "name": "python"
    }
  },
  "cells": [
    {
      "cell_type": "markdown",
      "metadata": {
        "id": "view-in-github",
        "colab_type": "text"
      },
      "source": [
        "<a href=\"https://colab.research.google.com/github/nvwa0318/Supervise-learning/blob/main/Supervise_learning_traingxii1.ipynb\" target=\"_parent\"><img src=\"https://colab.research.google.com/assets/colab-badge.svg\" alt=\"Open In Colab\"/></a>"
      ]
    },
    {
      "cell_type": "code",
      "execution_count": null,
      "metadata": {
        "id": "xphHmJmCYbMn"
      },
      "outputs": [],
      "source": [
        "import numpy as np\n",
        "import pandas as pd\n",
        "\n",
        "from sklearn import svm, datasets\n",
        "from sklearn.linear_model import LinearRegression\n",
        "from sklearn.model_selection import train_test_split, GridSearchCV\n",
        "\n",
        "from sklearn.pipeline import Pipeline\n",
        "from sklearn.preprocessing import LabelEncoder, StandardScaler, OneHotEncoder\n",
        "from sklearn.compose import ColumnTransformer\n",
        "from sklearn.impute import SimpleImputer\n",
        "from sklearn import metrics\n",
        "\n",
        "columns = [\"sex\",\"length\",\"diam\",\"height\",\"whole\",\"shucked\",\"viscera\",\"shell\",\"age\"]\n",
        "df = pd.read_csv(\"http://archive.ics.uci.edu/ml/machine-learning-databases/abalone/abalone.data\",names=columns)\n",
        "\n",
        "y = df.age\n",
        "X=df.drop(columns=['age'])\n",
        "num_cols = X.select_dtypes(include=np.number).columns\n",
        "cat_cols = X.select_dtypes(include=['object']).columns\n",
        "#create some missing values\n",
        "for i in range(1000):\n",
        "    X.loc[np.random.choice(X.index),np.random.choice(X.columns)] = np.nan\n",
        "\n",
        "x_train, x_test, y_train, y_test = train_test_split(X,y, random_state=0, test_size=0.25)\n",
        "\n",
        "cat_vals = Pipeline([(\"imputer\",SimpleImputer(strategy='most_frequent')), (\"ohe\",OneHotEncoder(sparse=False, drop='first'))])\n",
        "num_vals = Pipeline([(\"imputer\",SimpleImputer(strategy='mean')), (\"scale\",StandardScaler())])\n",
        "\n",
        "preprocess = ColumnTransformer(\n",
        "    transformers=[\n",
        "        (\"cat_process\", cat_vals, cat_cols),\n",
        "        (\"num_process\", num_vals, num_cols)\n",
        "    ]\n",
        ")\n",
        "\n",
        "#Create a pipeline with pregrocess and a linear regression model\n",
        "pipeline = Pipeline([(\"preprocess\",preprocess), \n",
        "                     (\"regr\",LinearRegression())])\n",
        "\n",
        "#Very simple parameter grid, with and without the intercept\n",
        "param_grid = {\n",
        "    \"regr__fit_intercept\": [True,False]\n",
        "}\n",
        "#1. Grid search using previous pipeline\n",
        "\n",
        "search = GridSearchCV(pipeline, # you have defined this beforehand\n",
        "                      param_grid, # your parameter grid\n",
        "                      #n_iter=10,\n",
        "                      #cv=9, # the value for K in K-fold Cross Validation\n",
        "                      scoring='neg_mean_squared_error', # the performance metric to use, \n",
        "                      #n_jobs=-1,\n",
        "                      cv=5, # the value for K in K-fold Cross Validation\n",
        "                     # random_state=5) # we want informative outputs during the training process\n",
        ")\n",
        "search.fit(x_train, y_train)   \n",
        "\n",
        "#2. fit grid using training data\n",
        "\n",
        "print('Best NMSE:')\n",
        "print(search.best_score_)"
      ]
    }
  ]
}